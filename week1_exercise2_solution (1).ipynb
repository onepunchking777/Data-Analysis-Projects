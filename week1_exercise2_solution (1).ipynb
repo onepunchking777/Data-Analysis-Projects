{
 "cells": [
  {
   "cell_type": "markdown",
   "metadata": {},
   "source": [
    "## Week 1: Daily Exercise 2\n",
    "\n",
    "Create an array of 501 numbers between 0 and 10000. Write code that prints the stepsize between the values\n",
    "\n",
    "**Hint:** Check the numpy documentation for the `linspace()` function."
   ]
  },
  {
   "cell_type": "markdown",
   "metadata": {},
   "source": [
    "## Solution:"
   ]
  },
  {
   "cell_type": "code",
   "execution_count": null,
   "metadata": {},
   "outputs": [],
   "source": [
    "import numpy\n",
    "\n",
    "# build the array, note how we use retstep input argument\n",
    "a = numpy.linspace(0,10000,501, retstep=True)\n",
    "\n",
    "# this is the step size from 0 to the first element\n",
    "step = a[1]\n",
    "\n",
    "print(step)"
   ]
  }
 ],
 "metadata": {
  "kernelspec": {
   "display_name": "Python 3",
   "language": "python",
   "name": "python3"
  },
  "language_info": {
   "codemirror_mode": {
    "name": "ipython",
    "version": 3
   },
   "file_extension": ".py",
   "mimetype": "text/x-python",
   "name": "python",
   "nbconvert_exporter": "python",
   "pygments_lexer": "ipython3",
   "version": "3.9.13"
  }
 },
 "nbformat": 4,
 "nbformat_minor": 2
}
